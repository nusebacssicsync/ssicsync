{
 "cells": [
  {
   "cell_type": "code",
   "execution_count": 8,
   "metadata": {},
   "outputs": [
    {
     "name": "stderr",
     "output_type": "stream",
     "text": [
      "Some weights of PegasusForConditionalGeneration were not initialized from the model checkpoint at google/pegasus-xsum and are newly initialized: ['model.decoder.embed_positions.weight', 'model.encoder.embed_positions.weight']\n",
      "You should probably TRAIN this model on a down-stream task to be able to use it for predictions and inference.\n"
     ]
    }
   ],
   "source": [
    "# zero-shot learning pipeline, summarization models available on huggingface - https://huggingface.co/models?pipeline_tag=summarization&sort=downloads\n",
    "\n",
    "from transformers import pipeline\n",
    "\n",
    "summarizer_facebook_bart = pipeline(\"summarization\", model=\"facebook/bart-large-cnn\") # https://huggingface.co/facebook/bart-large-cnn\n",
    "summarizer_sshleifer_distilbart_12_6 = pipeline(\"summarization\", model=\"sshleifer/distilbart-cnn-12-6\") # https://huggingface.co/sshleifer/distilbart-cnn-12-6\n",
    "summarizer_philschmid_bart = pipeline(\"summarization\", model=\"philschmid/bart-large-cnn-samsum\") # https://huggingface.co/philschmid/bart-large-cnn-samsum\n",
    "summarizer_google_pegasus = pipeline(\"summarization\", model=\"google/pegasus-xsum\") # https://huggingface.co/google/pegasus-xsum\n",
    "summarizer_falconsai = pipeline(\"summarization\", model=\"Falconsai/text_summarization\") # https://huggingface.co/Falconsai/text_summarization\n",
    "\n",
    "\n",
    "# summarizer_google_pegasusL = pipeline(\"summarization\", model=\"google/pegasus-large\") # https://huggingface.co/google/pegasus-large\n",
    "summarizer_sshleifer_distilbart_6_6 = pipeline(\"summarization\", model=\"sshleifer/distilbart-cnn-6-6\") # https://huggingface.co/sshleifer/distilbart-cnn-6-6\n",
    "summarizer_azma_bart = pipeline(\"summarization\", model=\"Azma-AI/bart-large-text-summarizer\") # https://huggingface.co/Azma-AI/bart-large-text-summarizer\n",
    "\n",
    "list_of_summarizer = [summarizer_facebook_bart, summarizer_sshleifer_distilbart_12_6, summarizer_philschmid_bart, summarizer_google_pegasus, summarizer_falconsai, summarizer_sshleifer_distilbart_6_6, summarizer_azma_bart]"
   ]
  },
  {
   "cell_type": "code",
   "execution_count": 11,
   "metadata": {},
   "outputs": [
    {
     "name": "stdout",
     "output_type": "stream",
     "text": [
      "Summary from facebook/bart-large-cnn: [{'summary_text': 'The principal activities of the subsidiary companies are disclosed in Note 18 to the financial statements. There have been no significant changes in the nature of these activities during the financial year.'}]\n",
      "Summary from sshleifer/distilbart-cnn-12-6: [{'summary_text': ' The principal activities of the subsidiary companies are disclosed in Note 18 to the financial statements . There have been no significant changes in the nature of these activities during the financial year .'}]\n",
      "Summary from philschmid/bart-large-cnn-samsum: [{'summary_text': 'The principal activities of the Company are the provision of airframe maintenance, component overhaul services, inventory management, line maintenance and technical ground handling services and investment holdings. There were no significant changes in the nature of these activities during the financial year.'}]\n",
      "Summary from google/pegasus-xsum: [{'summary_text': \"The results of the Company for the financial year ending 30 June 2014 are set out in the Company's annual report and accounts for the year ended 30 June 2014.\"}]\n",
      "Summary from Falconsai/text_summarization: [{'summary_text': 'The principal activities of the subsidiary companies are disclosed in Note 18 to the financial statements . There have been no significant changes in the nature of these activities during the financial year .'}]\n",
      "Summary from sshleifer/distilbart-cnn-6-6: [{'summary_text': ' The principal activities of the subsidiary companies are disclosed in Note 18 to the financial statements . There have been no significant changes in the nature of these activities during the financial year .'}]\n",
      "Summary from Azma-AI/bart-large-text-summarizer: [{'summary_text': 'The principal activities of the Company are the provision of airframe maintenance, component overhaul services and inventory management. The subsidiary activities are disclosed in Note 18 to the financial statements.'}]\n"
     ]
    }
   ],
   "source": [
    "ARTICLE = \"\"\" \n",
    "The principal activities of the Company are the provision of airframe maintenance, component overhaul services and inventory\n",
    "technical management, the provision of line maintenance and technical ground handling services and investment holdings.\n",
    "The principal activities of the subsidiary companies are disclosed in Note 18 to the financial statements. There have been no\n",
    "significant changes in the nature of these activities during the financial year.\n",
    "\"\"\"\n",
    "\n",
    "for summarizer in list_of_summarizer:\n",
    "    model_name = summarizer.model.name_or_path if hasattr(summarizer, 'model') else summarizer.__name__\n",
    "    summary = summarizer(ARTICLE, max_length=60, min_length=30, do_sample=False)\n",
    "    print(f\"Summary from {model_name}: {summary}\")"
   ]
  },
  {
   "cell_type": "code",
   "execution_count": null,
   "metadata": {},
   "outputs": [],
   "source": []
  },
  {
   "cell_type": "code",
   "execution_count": 12,
   "metadata": {},
   "outputs": [
    {
     "data": {
      "application/vnd.jupyter.widget-view+json": {
       "model_id": "f2968bf6370040c1940e106a1c11e199",
       "version_major": 2,
       "version_minor": 0
      },
      "text/plain": [
       "Downloading config.json:   0%|          | 0.00/1.15k [00:00<?, ?B/s]"
      ]
     },
     "metadata": {},
     "output_type": "display_data"
    },
    {
     "data": {
      "application/vnd.jupyter.widget-view+json": {
       "model_id": "5772e32771b44fea895600116db62147",
       "version_major": 2,
       "version_minor": 0
      },
      "text/plain": [
       "Downloading model.safetensors:   0%|          | 0.00/1.63G [00:00<?, ?B/s]"
      ]
     },
     "metadata": {},
     "output_type": "display_data"
    },
    {
     "data": {
      "application/vnd.jupyter.widget-view+json": {
       "model_id": "e43ed195292e4bc0a022c874366bd3d1",
       "version_major": 2,
       "version_minor": 0
      },
      "text/plain": [
       "Downloading tokenizer_config.json:   0%|          | 0.00/26.0 [00:00<?, ?B/s]"
      ]
     },
     "metadata": {},
     "output_type": "display_data"
    },
    {
     "data": {
      "application/vnd.jupyter.widget-view+json": {
       "model_id": "eb059c73929a44c0bd7be0e8ecbb61b3",
       "version_major": 2,
       "version_minor": 0
      },
      "text/plain": [
       "Downloading vocab.json:   0%|          | 0.00/899k [00:00<?, ?B/s]"
      ]
     },
     "metadata": {},
     "output_type": "display_data"
    },
    {
     "data": {
      "application/vnd.jupyter.widget-view+json": {
       "model_id": "a3865ea0adaa4bdbab0f9983e71966c0",
       "version_major": 2,
       "version_minor": 0
      },
      "text/plain": [
       "Downloading merges.txt:   0%|          | 0.00/456k [00:00<?, ?B/s]"
      ]
     },
     "metadata": {},
     "output_type": "display_data"
    },
    {
     "data": {
      "application/vnd.jupyter.widget-view+json": {
       "model_id": "b7b740775ab544f3a91f6a1b5aa9b15c",
       "version_major": 2,
       "version_minor": 0
      },
      "text/plain": [
       "Downloading tokenizer.json:   0%|          | 0.00/1.36M [00:00<?, ?B/s]"
      ]
     },
     "metadata": {},
     "output_type": "display_data"
    }
   ],
   "source": [
    "from transformers import pipeline\n",
    "classifier = pipeline(\"zero-shot-classification\", model=\"facebook/bart-large-mnli\")"
   ]
  },
  {
   "cell_type": "code",
   "execution_count": 13,
   "metadata": {},
   "outputs": [
    {
     "data": {
      "text/plain": [
       "{'sequence': 'one day I will see the world',\n",
       " 'labels': ['travel', 'dancing', 'cooking'],\n",
       " 'scores': [0.9938650727272034, 0.0032737995497882366, 0.0028610355220735073]}"
      ]
     },
     "execution_count": 13,
     "metadata": {},
     "output_type": "execute_result"
    }
   ],
   "source": [
    "sequence_to_classify = \"one day I will see the world\"\n",
    "candidate_labels = ['travel', 'cooking', 'dancing']\n",
    "classifier(sequence_to_classify, candidate_labels)\n",
    "#{'labels': ['travel', 'dancing', 'cooking'],\n",
    "# 'scores': [0.9938651323318481, 0.0032737774308770895, 0.002861034357920289],\n",
    "# 'sequence': 'one day I will see the world'}\n"
   ]
  }
 ],
 "metadata": {
  "kernelspec": {
   "display_name": "Python 3",
   "language": "python",
   "name": "python3"
  },
  "language_info": {
   "codemirror_mode": {
    "name": "ipython",
    "version": 3
   },
   "file_extension": ".py",
   "mimetype": "text/x-python",
   "name": "python",
   "nbconvert_exporter": "python",
   "pygments_lexer": "ipython3",
   "version": "3.10.11"
  }
 },
 "nbformat": 4,
 "nbformat_minor": 2
}
